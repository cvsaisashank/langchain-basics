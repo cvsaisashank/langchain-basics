{
 "cells": [
  {
   "cell_type": "markdown",
   "metadata": {},
   "source": [
    "# How to use tools with multiple arguments"
   ]
  },
  {
   "cell_type": "markdown",
   "metadata": {},
   "source": [
    "We need to use `StructuredTool` instead of `Tool` like below: \n",
    "\n",
    "```python\n",
    "\n",
    "# We use `StructuredTool` when we are dealing with multipel arguments\n",
    "write_report_tool = StructuredTool.from_function(\n",
    "    name=\"write_report\",\n",
    "    description=\"Write an HTML file to disk. Use this tool whenever someone asks for a report\",\n",
    "    func=write_report,\n",
    "    args_schema=WriteReportArgsSchema,\n",
    ")\n",
    "```"
   ]
  },
  {
   "cell_type": "markdown",
   "metadata": {},
   "source": []
  }
 ],
 "metadata": {
  "language_info": {
   "name": "python"
  }
 },
 "nbformat": 4,
 "nbformat_minor": 2
}
