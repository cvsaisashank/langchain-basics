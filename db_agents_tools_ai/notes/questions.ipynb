{
 "cells": [
  {
   "cell_type": "markdown",
   "metadata": {},
   "source": [
    "1) How is import working in python. for example, how th ebelow line is working in main.py\n",
    "  ```python \n",
    "  from tools.sql import run_query_tool \n",
    "  ```\n",
    "  Is there a relative path concept in pythin imports?\n",
    "\n",
    "2) Without declaring the HumanMessage will be coming in the `input` variable, how it is automatically taking it from this variable in the below code snippet in main.py file?\n",
    "  ```python\n",
    "   prompt = ChatPromptTemplate(\n",
    "    messages=[\n",
    "        HumanMessagePromptTemplate.from_template(\n",
    "            \"{input}\"\n",
    "        ),  # user-input will be coming in `input` variable\n",
    "        MessagesPlaceholder(variable_name=\"agent_scratchpad\"),\n",
    "    ],\n",
    ")\n",
    "  ```"
   ]
  },
  {
   "cell_type": "markdown",
   "metadata": {},
   "source": []
  }
 ],
 "metadata": {
  "language_info": {
   "name": "python"
  }
 },
 "nbformat": 4,
 "nbformat_minor": 2
}
